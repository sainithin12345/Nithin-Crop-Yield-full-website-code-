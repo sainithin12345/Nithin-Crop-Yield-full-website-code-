{
  "nbformat": 4,
  "nbformat_minor": 0,
  "metadata": {
    "colab": {
      "provenance": [],
      "authorship_tag": "ABX9TyNolrE66URmzAAiNdDKcfre",
      "include_colab_link": true
    },
    "kernelspec": {
      "name": "python3",
      "display_name": "Python 3"
    },
    "language_info": {
      "name": "python"
    }
  },
  "cells": [
    {
      "cell_type": "markdown",
      "metadata": {
        "id": "view-in-github",
        "colab_type": "text"
      },
      "source": [
        "<a href=\"https://colab.research.google.com/github/sainithin12345/Nithin-Crop-Yield-full-website-code-/blob/main/Crop_Yield.ipynb\" target=\"_parent\"><img src=\"https://colab.research.google.com/assets/colab-badge.svg\" alt=\"Open In Colab\"/></a>"
      ]
    },
    {
      "cell_type": "code",
      "execution_count": null,
      "metadata": {
        "id": "KtZ_MW52VxQL"
      },
      "outputs": [],
      "source": [
        "import pandas as pd\n",
        "from sklearn.model_selection import train_test_split\n",
        "from sklearn.ensemble import RandomForestClassifier\n",
        "from sklearn.linear_model import LogisticRegression\n",
        "from sklearn.metrics import accuracy_score\n"
      ]
    },
    {
      "cell_type": "code",
      "source": [
        "pip install pandas scikit-learn\n"
      ],
      "metadata": {
        "colab": {
          "base_uri": "https://localhost:8080/"
        },
        "id": "4GKcoFU2YD4m",
        "outputId": "bacc2467-0bb7-4144-ae19-21420b7ed2cd"
      },
      "execution_count": null,
      "outputs": [
        {
          "output_type": "stream",
          "name": "stdout",
          "text": [
            "Requirement already satisfied: pandas in /usr/local/lib/python3.10/dist-packages (1.5.3)\n",
            "Requirement already satisfied: scikit-learn in /usr/local/lib/python3.10/dist-packages (1.2.2)\n",
            "Requirement already satisfied: python-dateutil>=2.8.1 in /usr/local/lib/python3.10/dist-packages (from pandas) (2.8.2)\n",
            "Requirement already satisfied: pytz>=2020.1 in /usr/local/lib/python3.10/dist-packages (from pandas) (2023.4)\n",
            "Requirement already satisfied: numpy>=1.21.0 in /usr/local/lib/python3.10/dist-packages (from pandas) (1.25.2)\n",
            "Requirement already satisfied: scipy>=1.3.2 in /usr/local/lib/python3.10/dist-packages (from scikit-learn) (1.11.4)\n",
            "Requirement already satisfied: joblib>=1.1.1 in /usr/local/lib/python3.10/dist-packages (from scikit-learn) (1.3.2)\n",
            "Requirement already satisfied: threadpoolctl>=2.0.0 in /usr/local/lib/python3.10/dist-packages (from scikit-learn) (3.3.0)\n",
            "Requirement already satisfied: six>=1.5 in /usr/local/lib/python3.10/dist-packages (from python-dateutil>=2.8.1->pandas) (1.16.0)\n"
          ]
        }
      ]
    },
    {
      "cell_type": "code",
      "source": [
        "# Load the dataset (replace 'your_dataset.csv' with the actual file name)\n",
        "df = pd.read_csv('/content/Final_Data.csv')"
      ],
      "metadata": {
        "id": "WgtjV4d4XBxJ"
      },
      "execution_count": null,
      "outputs": []
    },
    {
      "cell_type": "code",
      "source": [
        "df.info()"
      ],
      "metadata": {
        "colab": {
          "base_uri": "https://localhost:8080/"
        },
        "id": "EXgs6mpcbxP3",
        "outputId": "d468d947-eb9a-4b1b-a2f2-cee26a32d7b2"
      },
      "execution_count": null,
      "outputs": [
        {
          "output_type": "stream",
          "name": "stdout",
          "text": [
            "<class 'pandas.core.frame.DataFrame'>\n",
            "RangeIndex: 1345 entries, 0 to 1344\n",
            "Data columns (total 50 columns):\n",
            " #   Column                Non-Null Count  Dtype  \n",
            "---  ------                --------------  -----  \n",
            " 0   ï»¿State_Name         1345 non-null   object \n",
            " 1   Crop_Year             1345 non-null   int64  \n",
            " 2   Area                  1345 non-null   int64  \n",
            " 3   Yield                 1345 non-null   int64  \n",
            " 4   Temperature           1345 non-null   float64\n",
            " 5   Precipitaion          1345 non-null   float64\n",
            " 6   Humidity              1345 non-null   float64\n",
            " 7   Soil_type:_chalky     1345 non-null   float64\n",
            " 8   Soil_type:_clay       1345 non-null   float64\n",
            " 9   Soil_type:_loamy      1345 non-null   float64\n",
            " 10  Soil_type:_peaty      1345 non-null   float64\n",
            " 11  Soil_type:_sandy      1345 non-null   float64\n",
            " 12  Soil_type:_silt       1345 non-null   float64\n",
            " 13  Soil_type:_silty      1345 non-null   float64\n",
            " 14  District:_AHMEDNAGAR  1345 non-null   float64\n",
            " 15  District:_AKOLA       1345 non-null   float64\n",
            " 16  District:_AMRAVATI    1345 non-null   float64\n",
            " 17  District:_AURANGABAD  1345 non-null   float64\n",
            " 18  District:_BEED        1345 non-null   float64\n",
            " 19  District:_BHANDARA    1345 non-null   float64\n",
            " 20  District:_BULDHANA    1345 non-null   float64\n",
            " 21  District:_CHANDRAPUR  1345 non-null   float64\n",
            " 22  District:_DHULE       1345 non-null   float64\n",
            " 23  District:_GADCHIROLI  1345 non-null   float64\n",
            " 24  District:_GONDIA      1345 non-null   float64\n",
            " 25  District:_HINGOLI     1345 non-null   float64\n",
            " 26  District:_JALGAON     1345 non-null   float64\n",
            " 27  District:_JALNA       1345 non-null   float64\n",
            " 28  District:_KOLHAPUR    1345 non-null   float64\n",
            " 29  District:_LATUR       1345 non-null   float64\n",
            " 30  District:_NAGPUR      1345 non-null   float64\n",
            " 31  District:_NANDED      1345 non-null   float64\n",
            " 32  District:_NANDURBAR   1345 non-null   float64\n",
            " 33  District:_NASHIK      1345 non-null   float64\n",
            " 34  District:_OSMANABAD   1345 non-null   float64\n",
            " 35  District:_PARBHANI    1345 non-null   float64\n",
            " 36  District:_PUNE        1345 non-null   float64\n",
            " 37  District:_SANGLI      1345 non-null   float64\n",
            " 38  District:_SATARA      1345 non-null   float64\n",
            " 39  District:_SOLAPUR     1345 non-null   float64\n",
            " 40  District:_THANE       1345 non-null   float64\n",
            " 41  District:_WARDHA      1345 non-null   float64\n",
            " 42  District:_WASHIM      1345 non-null   float64\n",
            " 43  District:_YAVATMAL    1345 non-null   float64\n",
            " 44  Crop:_Bajra           1345 non-null   float64\n",
            " 45  Crop:_Jowar           1345 non-null   float64\n",
            " 46  Crop:_Wheat           1345 non-null   float64\n",
            " 47  Season:_Kharif        1345 non-null   float64\n",
            " 48  Season:_Rabi          1345 non-null   float64\n",
            " 49  Season:_Rabi          1345 non-null   float64\n",
            "dtypes: float64(46), int64(3), object(1)\n",
            "memory usage: 525.5+ KB\n"
          ]
        }
      ]
    },
    {
      "cell_type": "code",
      "source": [
        "# Print out the column names to check for any discrepancies\n",
        "print(df.columns)\n"
      ],
      "metadata": {
        "colab": {
          "base_uri": "https://localhost:8080/"
        },
        "id": "REz3s4HFdrmD",
        "outputId": "23770fa9-dc21-4787-b0be-f2d5c3785d87"
      },
      "execution_count": null,
      "outputs": [
        {
          "output_type": "stream",
          "name": "stdout",
          "text": [
            "Index(['ï»¿State_Name', 'Crop_Year', 'Area', 'Yield', 'Temperature',\n",
            "       'Precipitaion', 'Humidity', 'Soil_type:_chalky', 'Soil_type:_clay',\n",
            "       'Soil_type:_loamy', 'Soil_type:_peaty', 'Soil_type:_sandy',\n",
            "       'Soil_type:_silt', 'Soil_type:_silty', 'District:_AHMEDNAGAR',\n",
            "       'District:_AKOLA', 'District:_AMRAVATI', 'District:_AURANGABAD',\n",
            "       'District:_BEED', 'District:_BHANDARA', 'District:_BULDHANA',\n",
            "       'District:_CHANDRAPUR', 'District:_DHULE', 'District:_GADCHIROLI',\n",
            "       'District:_GONDIA', 'District:_HINGOLI', 'District:_JALGAON',\n",
            "       'District:_JALNA', 'District:_KOLHAPUR', 'District:_LATUR',\n",
            "       'District:_NAGPUR', 'District:_NANDED', 'District:_NANDURBAR',\n",
            "       'District:_NASHIK', 'District:_OSMANABAD', 'District:_PARBHANI',\n",
            "       'District:_PUNE', 'District:_SANGLI', 'District:_SATARA',\n",
            "       'District:_SOLAPUR', 'District:_THANE', 'District:_WARDHA',\n",
            "       'District:_WASHIM', 'District:_YAVATMAL', 'Crop:_Bajra', 'Crop:_Jowar',\n",
            "       'Crop:_Wheat', 'Season:_Kharif', 'Season:_Rabi', 'Season:_Rabi       '],\n",
            "      dtype='object')\n"
          ]
        }
      ]
    },
    {
      "cell_type": "code",
      "source": [
        "# Selecting relevant columns\n",
        "X = df[['Area', 'Temperature', 'Precipitaion', 'Humidity', 'Soil_type:_chalky', 'Soil_type:_clay',\n",
        "       'Soil_type:_loamy', 'Soil_type:_peaty', 'Soil_type:_sandy',\n",
        "       'Soil_type:_silt', 'Soil_type:_silty']]\n",
        "y = df['Yield']\n"
      ],
      "metadata": {
        "id": "Vm4MKegkd0a6"
      },
      "execution_count": null,
      "outputs": []
    },
    {
      "cell_type": "code",
      "source": [
        "# Splitting the dataset into training and testing sets\n",
        "X_train, X_test, y_train, y_test = train_test_split(X, y, test_size=0.2, random_state=42)\n"
      ],
      "metadata": {
        "id": "Y4iArFA8ey4o"
      },
      "execution_count": null,
      "outputs": []
    },
    {
      "cell_type": "code",
      "source": [
        "# Random Forest Classifier\n",
        "rf_classifier = RandomForestClassifier()\n",
        "rf_classifier.fit(X_train, y_train)\n",
        "rf_pred = rf_classifier.predict(X_test)\n",
        "rf_accuracy = accuracy_score(y_test, rf_pred)"
      ],
      "metadata": {
        "id": "iuf1dJShe0nk"
      },
      "execution_count": null,
      "outputs": []
    },
    {
      "cell_type": "code",
      "source": [
        "# Logistic Regression\n",
        "logreg_classifier = LogisticRegression()\n",
        "logreg_classifier.fit(X_train, y_train)\n",
        "logreg_pred = logreg_classifier.predict(X_test)\n",
        "logreg_accuracy = accuracy_score(y_test, logreg_pred)"
      ],
      "metadata": {
        "colab": {
          "base_uri": "https://localhost:8080/"
        },
        "id": "A8h0jERme5n2",
        "outputId": "6968ca62-734b-47db-9098-f09645018998"
      },
      "execution_count": null,
      "outputs": [
        {
          "output_type": "stream",
          "name": "stderr",
          "text": [
            "/usr/local/lib/python3.10/dist-packages/sklearn/linear_model/_logistic.py:458: ConvergenceWarning: lbfgs failed to converge (status=1):\n",
            "STOP: TOTAL NO. of ITERATIONS REACHED LIMIT.\n",
            "\n",
            "Increase the number of iterations (max_iter) or scale the data as shown in:\n",
            "    https://scikit-learn.org/stable/modules/preprocessing.html\n",
            "Please also refer to the documentation for alternative solver options:\n",
            "    https://scikit-learn.org/stable/modules/linear_model.html#logistic-regression\n",
            "  n_iter_i = _check_optimize_result(\n"
          ]
        }
      ]
    },
    {
      "cell_type": "code",
      "source": [
        "# Output the accuracies\n",
        "print(\"Random Forest Accuracy:\", rf_accuracy)\n",
        "print(\"Logistic Regression Accuracy:\", logreg_accuracy)"
      ],
      "metadata": {
        "colab": {
          "base_uri": "https://localhost:8080/"
        },
        "id": "Cjt6wtvbe-lN",
        "outputId": "a252e82b-4037-49d7-9f7f-74c911c8c2a7"
      },
      "execution_count": null,
      "outputs": [
        {
          "output_type": "stream",
          "name": "stdout",
          "text": [
            "Random Forest Accuracy: 0.06691449814126393\n",
            "Logistic Regression Accuracy: 0.0037174721189591076\n"
          ]
        }
      ]
    },
    {
      "cell_type": "code",
      "source": [
        "# Predicting high and low crop yield using the model with the highest accuracy\n",
        "if rf_accuracy > logreg_accuracy:\n",
        "    best_model = rf_classifier\n",
        "else:\n",
        "    best_model = logreg_classifier\n"
      ],
      "metadata": {
        "id": "aqQPYxVcfFJZ"
      },
      "execution_count": null,
      "outputs": []
    },
    {
      "cell_type": "code",
      "source": [
        "# Predicting high and low crop yield for a new dataset (replace 'new_data.csv' with the actual file name)\n",
        "new_data = pd.read_csv('/content/Final_Data.csv')\n",
        "X_new = new_data[['Area', 'Temperature', 'Precipitaion', 'Humidity', 'Soil_type:_chalky', 'Soil_type:_clay',\n",
        "       'Soil_type:_loamy', 'Soil_type:_peaty', 'Soil_type:_sandy',\n",
        "       'Soil_type:_silt', 'Soil_type:_silty']]\n",
        "predictions = best_model.predict(X_new)\n",
        "new_data['Crop_Yield'] = predictions\n",
        "high_yield = new_data[new_data['Crop_Yield'] == 'high']\n",
        "low_yield = new_data[new_data['Crop_Yield'] == 'low']"
      ],
      "metadata": {
        "id": "f2VhPddufMzw"
      },
      "execution_count": null,
      "outputs": []
    },
    {
      "cell_type": "code",
      "source": [
        "\n",
        "print(\"High Crop Yield:\")\n",
        "print(high_yield)"
      ],
      "metadata": {
        "colab": {
          "base_uri": "https://localhost:8080/"
        },
        "id": "2gM4Wc_9fk1R",
        "outputId": "5ff62976-83ba-4949-ad63-ab06ea6ed67b"
      },
      "execution_count": null,
      "outputs": [
        {
          "output_type": "stream",
          "name": "stdout",
          "text": [
            "High Crop Yield:\n",
            "Empty DataFrame\n",
            "Columns: [ï»¿State_Name, Crop_Year, Area, Yield, Temperature, Precipitaion, Humidity, Soil_type:_chalky, Soil_type:_clay, Soil_type:_loamy, Soil_type:_peaty, Soil_type:_sandy, Soil_type:_silt, Soil_type:_silty, District:_AHMEDNAGAR, District:_AKOLA, District:_AMRAVATI, District:_AURANGABAD, District:_BEED, District:_BHANDARA, District:_BULDHANA, District:_CHANDRAPUR, District:_DHULE, District:_GADCHIROLI, District:_GONDIA, District:_HINGOLI, District:_JALGAON, District:_JALNA, District:_KOLHAPUR, District:_LATUR, District:_NAGPUR, District:_NANDED, District:_NANDURBAR, District:_NASHIK, District:_OSMANABAD, District:_PARBHANI, District:_PUNE, District:_SANGLI, District:_SATARA, District:_SOLAPUR, District:_THANE, District:_WARDHA, District:_WASHIM, District:_YAVATMAL, Crop:_Bajra, Crop:_Jowar, Crop:_Wheat, Season:_Kharif, Season:_Rabi, Season:_Rabi       , Crop_Yield]\n",
            "Index: []\n",
            "\n",
            "[0 rows x 51 columns]\n"
          ]
        }
      ]
    },
    {
      "cell_type": "code",
      "source": [
        "print(\"\\nLow Crop Yield:\")\n",
        "print(low_yield)"
      ],
      "metadata": {
        "colab": {
          "base_uri": "https://localhost:8080/"
        },
        "id": "Etr-I6L4frLz",
        "outputId": "ae7e24d1-adca-4bfe-9e67-f23967ed15e2"
      },
      "execution_count": null,
      "outputs": [
        {
          "output_type": "stream",
          "name": "stdout",
          "text": [
            "\n",
            "Low Crop Yield:\n",
            "Empty DataFrame\n",
            "Columns: [ï»¿State_Name, Crop_Year, Area, Yield, Temperature, Precipitaion, Humidity, Soil_type:_chalky, Soil_type:_clay, Soil_type:_loamy, Soil_type:_peaty, Soil_type:_sandy, Soil_type:_silt, Soil_type:_silty, District:_AHMEDNAGAR, District:_AKOLA, District:_AMRAVATI, District:_AURANGABAD, District:_BEED, District:_BHANDARA, District:_BULDHANA, District:_CHANDRAPUR, District:_DHULE, District:_GADCHIROLI, District:_GONDIA, District:_HINGOLI, District:_JALGAON, District:_JALNA, District:_KOLHAPUR, District:_LATUR, District:_NAGPUR, District:_NANDED, District:_NANDURBAR, District:_NASHIK, District:_OSMANABAD, District:_PARBHANI, District:_PUNE, District:_SANGLI, District:_SATARA, District:_SOLAPUR, District:_THANE, District:_WARDHA, District:_WASHIM, District:_YAVATMAL, Crop:_Bajra, Crop:_Jowar, Crop:_Wheat, Season:_Kharif, Season:_Rabi, Season:_Rabi       , Crop_Yield]\n",
            "Index: []\n",
            "\n",
            "[0 rows x 51 columns]\n"
          ]
        }
      ]
    },
    {
      "cell_type": "code",
      "source": [
        "import pandas as pd\n",
        "from sklearn.ensemble import RandomForestClassifier\n",
        "import pickle"
      ],
      "metadata": {
        "id": "oW1oCU8BulkW"
      },
      "execution_count": null,
      "outputs": []
    },
    {
      "cell_type": "code",
      "source": [
        "# Load the dataset (replace 'your_dataset.csv' with the actual file name)\n",
        "df = pd.read_csv('/content/Final_Data.csv')\n"
      ],
      "metadata": {
        "id": "G3m3CPegundc"
      },
      "execution_count": null,
      "outputs": []
    },
    {
      "cell_type": "code",
      "source": [
        "# Selecting relevant columns\n",
        "X = df[['Area', 'Temperature', 'Precipitaion', 'Humidity', 'Soil_type:_chalky', 'Soil_type:_clay',\n",
        "       'Soil_type:_loamy', 'Soil_type:_peaty', 'Soil_type:_sandy',\n",
        "       'Soil_type:_silt', 'Soil_type:_silty']]\n",
        "y = df['Yield']"
      ],
      "metadata": {
        "id": "6yjAaK0FuwvM"
      },
      "execution_count": null,
      "outputs": []
    },
    {
      "cell_type": "code",
      "source": [
        "# Train a Random Forest classifier\n",
        "rf_classifier = RandomForestClassifier()\n",
        "rf_classifier.fit(X, y)"
      ],
      "metadata": {
        "colab": {
          "base_uri": "https://localhost:8080/",
          "height": 74
        },
        "id": "5Te6Bv2zu3FL",
        "outputId": "5c9ab703-3069-497d-c003-2f3945731996"
      },
      "execution_count": null,
      "outputs": [
        {
          "output_type": "execute_result",
          "data": {
            "text/plain": [
              "RandomForestClassifier()"
            ],
            "text/html": [
              "<style>#sk-container-id-1 {color: black;background-color: white;}#sk-container-id-1 pre{padding: 0;}#sk-container-id-1 div.sk-toggleable {background-color: white;}#sk-container-id-1 label.sk-toggleable__label {cursor: pointer;display: block;width: 100%;margin-bottom: 0;padding: 0.3em;box-sizing: border-box;text-align: center;}#sk-container-id-1 label.sk-toggleable__label-arrow:before {content: \"▸\";float: left;margin-right: 0.25em;color: #696969;}#sk-container-id-1 label.sk-toggleable__label-arrow:hover:before {color: black;}#sk-container-id-1 div.sk-estimator:hover label.sk-toggleable__label-arrow:before {color: black;}#sk-container-id-1 div.sk-toggleable__content {max-height: 0;max-width: 0;overflow: hidden;text-align: left;background-color: #f0f8ff;}#sk-container-id-1 div.sk-toggleable__content pre {margin: 0.2em;color: black;border-radius: 0.25em;background-color: #f0f8ff;}#sk-container-id-1 input.sk-toggleable__control:checked~div.sk-toggleable__content {max-height: 200px;max-width: 100%;overflow: auto;}#sk-container-id-1 input.sk-toggleable__control:checked~label.sk-toggleable__label-arrow:before {content: \"▾\";}#sk-container-id-1 div.sk-estimator input.sk-toggleable__control:checked~label.sk-toggleable__label {background-color: #d4ebff;}#sk-container-id-1 div.sk-label input.sk-toggleable__control:checked~label.sk-toggleable__label {background-color: #d4ebff;}#sk-container-id-1 input.sk-hidden--visually {border: 0;clip: rect(1px 1px 1px 1px);clip: rect(1px, 1px, 1px, 1px);height: 1px;margin: -1px;overflow: hidden;padding: 0;position: absolute;width: 1px;}#sk-container-id-1 div.sk-estimator {font-family: monospace;background-color: #f0f8ff;border: 1px dotted black;border-radius: 0.25em;box-sizing: border-box;margin-bottom: 0.5em;}#sk-container-id-1 div.sk-estimator:hover {background-color: #d4ebff;}#sk-container-id-1 div.sk-parallel-item::after {content: \"\";width: 100%;border-bottom: 1px solid gray;flex-grow: 1;}#sk-container-id-1 div.sk-label:hover label.sk-toggleable__label {background-color: #d4ebff;}#sk-container-id-1 div.sk-serial::before {content: \"\";position: absolute;border-left: 1px solid gray;box-sizing: border-box;top: 0;bottom: 0;left: 50%;z-index: 0;}#sk-container-id-1 div.sk-serial {display: flex;flex-direction: column;align-items: center;background-color: white;padding-right: 0.2em;padding-left: 0.2em;position: relative;}#sk-container-id-1 div.sk-item {position: relative;z-index: 1;}#sk-container-id-1 div.sk-parallel {display: flex;align-items: stretch;justify-content: center;background-color: white;position: relative;}#sk-container-id-1 div.sk-item::before, #sk-container-id-1 div.sk-parallel-item::before {content: \"\";position: absolute;border-left: 1px solid gray;box-sizing: border-box;top: 0;bottom: 0;left: 50%;z-index: -1;}#sk-container-id-1 div.sk-parallel-item {display: flex;flex-direction: column;z-index: 1;position: relative;background-color: white;}#sk-container-id-1 div.sk-parallel-item:first-child::after {align-self: flex-end;width: 50%;}#sk-container-id-1 div.sk-parallel-item:last-child::after {align-self: flex-start;width: 50%;}#sk-container-id-1 div.sk-parallel-item:only-child::after {width: 0;}#sk-container-id-1 div.sk-dashed-wrapped {border: 1px dashed gray;margin: 0 0.4em 0.5em 0.4em;box-sizing: border-box;padding-bottom: 0.4em;background-color: white;}#sk-container-id-1 div.sk-label label {font-family: monospace;font-weight: bold;display: inline-block;line-height: 1.2em;}#sk-container-id-1 div.sk-label-container {text-align: center;}#sk-container-id-1 div.sk-container {/* jupyter's `normalize.less` sets `[hidden] { display: none; }` but bootstrap.min.css set `[hidden] { display: none !important; }` so we also need the `!important` here to be able to override the default hidden behavior on the sphinx rendered scikit-learn.org. See: https://github.com/scikit-learn/scikit-learn/issues/21755 */display: inline-block !important;position: relative;}#sk-container-id-1 div.sk-text-repr-fallback {display: none;}</style><div id=\"sk-container-id-1\" class=\"sk-top-container\"><div class=\"sk-text-repr-fallback\"><pre>RandomForestClassifier()</pre><b>In a Jupyter environment, please rerun this cell to show the HTML representation or trust the notebook. <br />On GitHub, the HTML representation is unable to render, please try loading this page with nbviewer.org.</b></div><div class=\"sk-container\" hidden><div class=\"sk-item\"><div class=\"sk-estimator sk-toggleable\"><input class=\"sk-toggleable__control sk-hidden--visually\" id=\"sk-estimator-id-1\" type=\"checkbox\" checked><label for=\"sk-estimator-id-1\" class=\"sk-toggleable__label sk-toggleable__label-arrow\">RandomForestClassifier</label><div class=\"sk-toggleable__content\"><pre>RandomForestClassifier()</pre></div></div></div></div></div>"
            ]
          },
          "metadata": {},
          "execution_count": 32
        }
      ]
    },
    {
      "cell_type": "code",
      "source": [
        "# Save the model to a file\n",
        "with open('model.pkl', 'wb') as f:\n",
        "    pickle.dump(rf_classifier, f)"
      ],
      "metadata": {
        "id": "DJKXwKzxvAqv"
      },
      "execution_count": null,
      "outputs": []
    },
    {
      "cell_type": "code",
      "source": [
        "from google.colab import files\n",
        "files.download('model.pkl')\n"
      ],
      "metadata": {
        "colab": {
          "base_uri": "https://localhost:8080/",
          "height": 17
        },
        "id": "NUDcL4xUvbop",
        "outputId": "8e765923-1a47-4d3f-8c6e-8f6e3759cd91"
      },
      "execution_count": null,
      "outputs": [
        {
          "output_type": "display_data",
          "data": {
            "text/plain": [
              "<IPython.core.display.Javascript object>"
            ],
            "application/javascript": [
              "\n",
              "    async function download(id, filename, size) {\n",
              "      if (!google.colab.kernel.accessAllowed) {\n",
              "        return;\n",
              "      }\n",
              "      const div = document.createElement('div');\n",
              "      const label = document.createElement('label');\n",
              "      label.textContent = `Downloading \"${filename}\": `;\n",
              "      div.appendChild(label);\n",
              "      const progress = document.createElement('progress');\n",
              "      progress.max = size;\n",
              "      div.appendChild(progress);\n",
              "      document.body.appendChild(div);\n",
              "\n",
              "      const buffers = [];\n",
              "      let downloaded = 0;\n",
              "\n",
              "      const channel = await google.colab.kernel.comms.open(id);\n",
              "      // Send a message to notify the kernel that we're ready.\n",
              "      channel.send({})\n",
              "\n",
              "      for await (const message of channel.messages) {\n",
              "        // Send a message to notify the kernel that we're ready.\n",
              "        channel.send({})\n",
              "        if (message.buffers) {\n",
              "          for (const buffer of message.buffers) {\n",
              "            buffers.push(buffer);\n",
              "            downloaded += buffer.byteLength;\n",
              "            progress.value = downloaded;\n",
              "          }\n",
              "        }\n",
              "      }\n",
              "      const blob = new Blob(buffers, {type: 'application/binary'});\n",
              "      const a = document.createElement('a');\n",
              "      a.href = window.URL.createObjectURL(blob);\n",
              "      a.download = filename;\n",
              "      div.appendChild(a);\n",
              "      a.click();\n",
              "      div.remove();\n",
              "    }\n",
              "  "
            ]
          },
          "metadata": {}
        },
        {
          "output_type": "display_data",
          "data": {
            "text/plain": [
              "<IPython.core.display.Javascript object>"
            ],
            "application/javascript": [
              "download(\"download_4e4e66e8-2dde-4ae7-806d-298635189c50\", \"model.pkl\", 1033372312)"
            ]
          },
          "metadata": {}
        }
      ]
    },
    {
      "cell_type": "code",
      "source": [
        "pip install --upgrade scikit-learn\n"
      ],
      "metadata": {
        "id": "tlaB9bbs2GJk",
        "outputId": "53f668f7-c2f1-436c-a2a5-b94a16b981d1",
        "colab": {
          "base_uri": "https://localhost:8080/",
          "height": 376
        }
      },
      "execution_count": null,
      "outputs": [
        {
          "output_type": "stream",
          "name": "stdout",
          "text": [
            "Requirement already satisfied: scikit-learn in /usr/local/lib/python3.10/dist-packages (1.2.2)\n",
            "Collecting scikit-learn\n",
            "  Downloading scikit_learn-1.4.1.post1-cp310-cp310-manylinux_2_17_x86_64.manylinux2014_x86_64.whl (12.1 MB)\n",
            "\u001b[2K     \u001b[90m━━━━━━━━━━━━━━━━━━━━━━━━━━━━━━━━━━━━━━━━\u001b[0m \u001b[32m12.1/12.1 MB\u001b[0m \u001b[31m25.4 MB/s\u001b[0m eta \u001b[36m0:00:00\u001b[0m\n",
            "\u001b[?25hRequirement already satisfied: numpy<2.0,>=1.19.5 in /usr/local/lib/python3.10/dist-packages (from scikit-learn) (1.25.2)\n",
            "Requirement already satisfied: scipy>=1.6.0 in /usr/local/lib/python3.10/dist-packages (from scikit-learn) (1.11.4)\n",
            "Requirement already satisfied: joblib>=1.2.0 in /usr/local/lib/python3.10/dist-packages (from scikit-learn) (1.3.2)\n",
            "Requirement already satisfied: threadpoolctl>=2.0.0 in /usr/local/lib/python3.10/dist-packages (from scikit-learn) (3.3.0)\n",
            "Installing collected packages: scikit-learn\n",
            "  Attempting uninstall: scikit-learn\n",
            "    Found existing installation: scikit-learn 1.2.2\n",
            "    Uninstalling scikit-learn-1.2.2:\n",
            "      Successfully uninstalled scikit-learn-1.2.2\n",
            "Successfully installed scikit-learn-1.4.1.post1\n"
          ]
        },
        {
          "output_type": "display_data",
          "data": {
            "application/vnd.colab-display-data+json": {
              "pip_warning": {
                "packages": [
                  "sklearn"
                ]
              },
              "id": "72321b9ae4c642339fcc56610d6e1b19"
            }
          },
          "metadata": {}
        }
      ]
    },
    {
      "cell_type": "code",
      "source": [],
      "metadata": {
        "id": "xiMK7-Fh2HIj"
      },
      "execution_count": null,
      "outputs": []
    }
  ]
}